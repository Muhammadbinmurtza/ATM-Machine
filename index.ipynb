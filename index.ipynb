{
 "cells": [
  {
   "cell_type": "code",
   "execution_count": null,
   "metadata": {},
   "outputs": [],
   "source": [
    "# class ATM():\n",
    "#     task = input(\"which task do you wanna perform\")\n",
    "#     the_task = task.lower()\n",
    "#     def __init__(self) -> None:\n",
    "#         pass\n",
    "    "
   ]
  },
  {
   "cell_type": "code",
   "execution_count": 3,
   "metadata": {},
   "outputs": [
    {
     "ename": "ValueError",
     "evalue": "invalid literal for int() with base 10: ''",
     "output_type": "error",
     "traceback": [
      "\u001b[1;31m---------------------------------------------------------------------------\u001b[0m",
      "\u001b[1;31mValueError\u001b[0m                                Traceback (most recent call last)",
      "Cell \u001b[1;32mIn[3], line 44\u001b[0m\n\u001b[0;32m     41\u001b[0m             \u001b[38;5;28mself\u001b[39m\u001b[38;5;241m.\u001b[39mwidhraw_money \u001b[38;5;241m=\u001b[39m \u001b[38;5;28mint\u001b[39m(\u001b[38;5;28minput\u001b[39m(\u001b[38;5;124m\"\u001b[39m\u001b[38;5;124mEnter the amount you wanna widhraw\u001b[39m\u001b[38;5;124m\"\u001b[39m))\n\u001b[0;32m     43\u001b[0m task1 : ATM \u001b[38;5;241m=\u001b[39m ATM()\n\u001b[1;32m---> 44\u001b[0m task1\u001b[38;5;241m.\u001b[39minput_amount()\n\u001b[0;32m     45\u001b[0m task1\u001b[38;5;241m.\u001b[39madd_money(\u001b[38;5;241m5000\u001b[39m)\n\u001b[0;32m     46\u001b[0m task1\u001b[38;5;241m.\u001b[39mwithdraw_money(\u001b[38;5;241m0\u001b[39m)\n",
      "Cell \u001b[1;32mIn[3], line 39\u001b[0m, in \u001b[0;36mATM.input_amount\u001b[1;34m(self)\u001b[0m\n\u001b[0;32m     37\u001b[0m \u001b[38;5;28;01mdef\u001b[39;00m \u001b[38;5;21minput_amount\u001b[39m(\u001b[38;5;28mself\u001b[39m):\n\u001b[0;32m     38\u001b[0m     \u001b[38;5;28;01mif\u001b[39;00m the_action \u001b[38;5;241m==\u001b[39m \u001b[38;5;124m\"\u001b[39m\u001b[38;5;124madd money\u001b[39m\u001b[38;5;124m\"\u001b[39m \u001b[38;5;129;01mor\u001b[39;00m \u001b[38;5;124m\"\u001b[39m\u001b[38;5;124madd amount\u001b[39m\u001b[38;5;124m\"\u001b[39m:\n\u001b[1;32m---> 39\u001b[0m         \u001b[38;5;28mself\u001b[39m\u001b[38;5;241m.\u001b[39madd_amount \u001b[38;5;241m=\u001b[39m \u001b[38;5;28mint\u001b[39m(\u001b[38;5;28minput\u001b[39m(\u001b[38;5;124m\"\u001b[39m\u001b[38;5;124mEnter the amount you wanna add\u001b[39m\u001b[38;5;124m\"\u001b[39m))\n\u001b[0;32m     40\u001b[0m     \u001b[38;5;28;01melse\u001b[39;00m:\n\u001b[0;32m     41\u001b[0m         \u001b[38;5;28mself\u001b[39m\u001b[38;5;241m.\u001b[39mwidhraw_money \u001b[38;5;241m=\u001b[39m \u001b[38;5;28mint\u001b[39m(\u001b[38;5;28minput\u001b[39m(\u001b[38;5;124m\"\u001b[39m\u001b[38;5;124mEnter the amount you wanna widhraw\u001b[39m\u001b[38;5;124m\"\u001b[39m))\n",
      "\u001b[1;31mValueError\u001b[0m: invalid literal for int() with base 10: ''"
     ]
    }
   ],
   "source": [
    "from typing  import Any\n",
    "action = input(\"what action do you wanna perform\")\n",
    "the_action = action.lower()\n",
    "class ATM:\n",
    "    def __init__(self):\n",
    "        self.total_balance = 0\n",
    "\n",
    "    def add_money(self, add_amount:Any):\n",
    "        if the_action == \"add money\" or \"add amount\":\n",
    "            self.add_amount:Any = add_amount\n",
    "            if add_amount > 0:\n",
    "                self.total_balance +=add_amount \n",
    "                print(f\"Successfully added ${add_amount}. Total balance is now ${self.total_balance}.\")\n",
    "            else:\n",
    "                print(\"Please enter a valid amount to add.\")\n",
    "        else:\n",
    "            pass\n",
    "\n",
    "    def withdraw_money(self, widhraw_amount:Any):\n",
    "        if the_action == \"widhraw\" or \"widhraw money\":\n",
    "            self.widhraw_money:Any = widhraw_amount\n",
    "            if 0 < widhraw_amount <= self.total_balance:\n",
    "                self.total_balance -= widhraw_amount\n",
    "                print(f\"Successfully withdrew ${widhraw_amount}. Remaining balance is ${self.total_balance}.\")\n",
    "            elif widhraw_amount > self.total_balance:\n",
    "                print(\"Insufficient funds.\")\n",
    "            else:\n",
    "                print(\"Please enter a valid amount to withdraw.\")\n",
    "        else:\n",
    "            pass\n",
    "\n",
    "    def show_balance(self):\n",
    "        if the_action == \"show balance\":\n",
    "            print(f\"Total balance: ${self.total_balance}\")\n",
    "        else:\n",
    "            pass\n",
    "    def input_amount(self):\n",
    "        if the_action == \"add money\" or \"add amount\":\n",
    "            self.add_amount = int(input(\"Enter the amount you wanna add\"))\n",
    "        else:\n",
    "            self.widhraw_money = int(input(\"Enter the amount you wanna widhraw\"))\n",
    "\n",
    "task1 : ATM = ATM()\n",
    "task1.input_amount()\n",
    "task1.add_money(5000)\n",
    "task1.withdraw_money(0)\n",
    "task1.show_balance()       \n",
    "\n"
   ]
  },
  {
   "cell_type": "code",
   "execution_count": 11,
   "metadata": {},
   "outputs": [
    {
     "name": "stdout",
     "output_type": "stream",
     "text": [
      "Insufficient funds.\n",
      "Total balance: 0\n"
     ]
    }
   ],
   "source": [
    "from typing import Any\n",
    "action = input(\"what action do you wanna perform\")\n",
    "the_action = action.lower()\n",
    "class ATM:\n",
    "    def __init__(self):\n",
    "        self.total_balance = 0\n",
    "\n",
    "    def add_money(self, add_amount: Any):\n",
    "        if the_action == \"add money\" or the_action == \"add amount\":\n",
    "            if add_amount > 0:\n",
    "                self.total_balance += add_amount\n",
    "                print(f\"Successfully added {add_amount}. Total balance is now {self.total_balance}.\")\n",
    "            else:\n",
    "                print(\"Please enter a valid amount to add.\")\n",
    "\n",
    "    def withdraw_money(self, withdraw_amount: Any):\n",
    "        if the_action == \"withdraw\" or the_action == \"withdraw money\":\n",
    "            if 0 < withdraw_amount <= self.total_balance:\n",
    "                self.total_balance -= withdraw_amount\n",
    "                print(f\"Successfully withdrew ${withdraw_amount}. Remaining balance is {self.total_balance}.\")\n",
    "            elif withdraw_amount > self.total_balance:\n",
    "                print(\"Insufficient funds.\")\n",
    "            else:\n",
    "                print(\"Please enter a valid amount to withdraw.\")\n",
    "\n",
    "    def show_balance(self):\n",
    "        if the_action == \"show balance\":\n",
    "            print(f\"Total balance: {self.total_balance}\")\n",
    "        else:\n",
    "            print(f\"Total balance: {self.total_balance}\")\n",
    "\n",
    "\n",
    "    def input_amount(self):\n",
    "        if the_action == \"add money\" or the_action == \"add amount\":\n",
    "            add_amount = int(input(\"Enter the amount you want to add: \"))\n",
    "            self.add_money(add_amount)\n",
    "        elif the_action == \"withdraw\" or the_action == \"withdraw money\":\n",
    "            withdraw_amount = int(input(\"Enter the amount you want to withdraw: \"))\n",
    "            self.withdraw_money(withdraw_amount)\n",
    "\n",
    "# Get user action\n",
    "action = input(\"What action do you want to perform: \")\n",
    "the_action = action.lower()\n",
    "\n",
    "# Create ATM instance and execute the input\n",
    "atm = ATM()\n",
    "atm.input_amount()\n",
    "atm.show_balance()\n"
   ]
  },
  {
   "cell_type": "code",
   "execution_count": 14,
   "metadata": {},
   "outputs": [
    {
     "name": "stdout",
     "output_type": "stream",
     "text": [
      "Insufficient funds in the added balance.\n",
      "Total added balance: 0\n"
     ]
    }
   ],
   "source": [
    "from typing import Any\n",
    "\n",
    "class ATM:\n",
    "    def __init__(self):\n",
    "        self.total_balance = 0\n",
    "        self.added_balance = 0  # This keeps track of the added money\n",
    "\n",
    "    def add_money(self, add_amount: Any):\n",
    "        if the_action == \"add money\" or the_action == \"add amount\":\n",
    "            if add_amount > 0:\n",
    "                self.added_balance += add_amount\n",
    "                print(f\"Successfully added {add_amount}. Total added balance is now {self.added_balance}.\")\n",
    "            else:\n",
    "                print(\"Please enter a valid amount to add.\")\n",
    "\n",
    "    def withdraw_money(self, withdraw_amount: Any):\n",
    "        if the_action == \"withdraw\" or the_action == \"withdraw money\":\n",
    "            if 0 < withdraw_amount <= self.added_balance:\n",
    "                self.added_balance -= withdraw_amount\n",
    "                print(f\"Successfully withdrew {withdraw_amount}. Remaining added balance is {self.added_balance}.\")\n",
    "            elif withdraw_amount > self.added_balance:\n",
    "                print(\"Insufficient funds in the added balance.\")\n",
    "            else:\n",
    "                print(\"Please enter a valid amount to withdraw.\")\n",
    "\n",
    "    def show_balance(self):\n",
    "        print(f\"Total added balance: {self.added_balance}\")\n",
    "\n",
    "    def input_amount(self):\n",
    "        if the_action == \"add money\" or the_action == \"add amount\":\n",
    "            add_amount = int(input(\"Enter the amount you want to add: \"))\n",
    "            self.add_money(add_amount)\n",
    "        elif the_action == \"withdraw\" or the_action == \"withdraw money\":\n",
    "            withdraw_amount = int(input(\"Enter the amount you want to withdraw: \"))\n",
    "            self.withdraw_money(withdraw_amount)\n",
    "\n",
    "# Get user action\n",
    "action = input(\"What action do you want to perform: \")\n",
    "the_action = action.lower()\n",
    "\n",
    "# Create ATM instance and execute the input\n",
    "atm = ATM()\n",
    "atm.input_amount()\n",
    "atm.show_balance()\n"
   ]
  }
 ],
 "metadata": {
  "kernelspec": {
   "display_name": "Python13",
   "language": "python",
   "name": "python3"
  },
  "language_info": {
   "codemirror_mode": {
    "name": "ipython",
    "version": 3
   },
   "file_extension": ".py",
   "mimetype": "text/x-python",
   "name": "python",
   "nbconvert_exporter": "python",
   "pygments_lexer": "ipython3",
   "version": "3.12.4"
  }
 },
 "nbformat": 4,
 "nbformat_minor": 2
}
